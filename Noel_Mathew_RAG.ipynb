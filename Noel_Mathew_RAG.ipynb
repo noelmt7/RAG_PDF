{
 "cells": [
  {
   "cell_type": "code",
   "execution_count": 38,
   "metadata": {},
   "outputs": [],
   "source": [
    "import pymupdf\n",
    "import pytesseract\n",
    "from pdfminer.high_level import extract_text\n",
    "from PIL import Image, ImageOps, ImageFilter\n",
    "import cv2  # For multilingual OCR\n",
    "import os\n",
    "import numpy as np\n",
    "import fitz"
   ]
  },
  {
   "cell_type": "code",
   "execution_count": 39,
   "metadata": {},
   "outputs": [],
   "source": [
    "pytesseract.pytesseract.tesseract_cmd = r\"C:\\Program Files\\Tesseract-OCR\\tesseract.exe\""
   ]
  },
  {
   "cell_type": "code",
   "execution_count": 40,
   "metadata": {},
   "outputs": [],
   "source": [
    "doc = pymupdf.open(r\"D:\\SEM 5\\RAG\\sample_pdfs\\en\\Blue_Ocean_Strategy,_Expanded_Edition_How_to_Create_Uncontested-2.pdf\") \n",
    "out = open(\"output.txt\", \"wb\")\n",
    "for page in doc: \n",
    "    text = page.get_text().encode(\"utf8\") \n",
    "    out.write(text) \n",
    "    out.write(bytes((12,)))\n",
    "out.close()"
   ]
  },
  {
   "cell_type": "code",
   "execution_count": 47,
   "metadata": {},
   "outputs": [],
   "source": [
    "def extract_text_from_pdf(pdf_path, language = 'eng'):\n",
    "    try:\n",
    "        doc = pymupdf.open(pdf_path)\n",
    "        text = \"\"\n",
    "        for page in doc:\n",
    "            page_text = page.get_text()\n",
    "            text += page_text\n",
    "            if page_text:\n",
    "                text += page_text\n",
    "        return text\n",
    "    except Exception as e:\n",
    "        print(f\"Error extracting text from {pdf_path}: {e}\")\n",
    "        return None\n",
    "    \n"
   ]
  },
  {
   "cell_type": "code",
   "execution_count": 48,
   "metadata": {},
   "outputs": [],
   "source": [
    "# Process the PDFs\n",
    "\n",
    "def process_pdf_folder(input_folder, output_folder, language = 'eng'):\n",
    "    if not os.path.exists(output_folder):\n",
    "        os.makedirs(output_folder)\n",
    "\n",
    "    for filename in os.listdir(input_folder):\n",
    "        if filename.endswith('.pdf'):\n",
    "            pdf_path = os.path.join(input_folder, filename)\n",
    "            print(f\"Found PDF: {pdf_path}...\")\n",
    "\n",
    "            text = extract_text_from_pdf(pdf_path)\n",
    "\n",
    "            if text is None:\n",
    "                print(f'No text found in {filename}, Applying OCR using pytesseract...')\n",
    "                text = ocr_from_pdf(pdf_path, language)\n",
    "\n",
    "            output_filename = os.path.splitext(filename)[0] + '.txt'\n",
    "            output_path = os.path.join(output_folder, output_filename)\n",
    "\n",
    "            with open(output_path, 'w', encoding='utf-8') as file_out:\n",
    "                file_out.write(text)\n",
    "\n",
    "            print(f\"Saved text to {output_path}\")"
   ]
  },
  {
   "cell_type": "code",
   "execution_count": 49,
   "metadata": {},
   "outputs": [
    {
     "name": "stdout",
     "output_type": "stream",
     "text": [
      "Found PDF: D:\\SEM 5\\RAG\\sample_pdfs\\en\\Blue_Ocean_Strategy,_Expanded_Edition_How_to_Create_Uncontested-2.pdf...\n",
      "Saved text to D:\\SEM 5\\RAG\\converted_files\\en\\Blue_Ocean_Strategy,_Expanded_Edition_How_to_Create_Uncontested-2.txt\n",
      "Found PDF: D:\\SEM 5\\RAG\\sample_pdfs\\en\\Reboot_Leadership_and_the_Art_of.pdf...\n",
      "Saved text to D:\\SEM 5\\RAG\\converted_files\\en\\Reboot_Leadership_and_the_Art_of.txt\n",
      "Found PDF: D:\\SEM 5\\RAG\\sample_pdfs\\en\\The Alchemist by Paulo Coelho-1.pdf...\n",
      "Saved text to D:\\SEM 5\\RAG\\converted_files\\en\\The Alchemist by Paulo Coelho-1.txt\n"
     ]
    }
   ],
   "source": [
    "# English PDFs\n",
    "\n",
    "eng_pdfs= r\"D:\\SEM 5\\RAG\\sample_pdfs\\en\"\n",
    "output_folder_en = r\"D:\\SEM 5\\RAG\\converted_files\\en\"\n",
    "\n",
    "process_pdf_folder(eng_pdfs, output_folder_en, language = 'eng')"
   ]
  },
  {
   "cell_type": "code",
   "execution_count": 50,
   "metadata": {},
   "outputs": [
    {
     "name": "stdout",
     "output_type": "stream",
     "text": [
      "Found PDF: D:\\SEM 5\\RAG\\sample_pdfs\\bn\\15092024_142.pdf...\n",
      "Saved text to D:\\SEM 5\\RAG\\converted_files\\bn\\15092024_142.txt\n",
      "Found PDF: D:\\SEM 5\\RAG\\sample_pdfs\\bn\\471 (TO).pdf...\n",
      "Saved text to D:\\SEM 5\\RAG\\converted_files\\bn\\471 (TO).txt\n",
      "Found PDF: D:\\SEM 5\\RAG\\sample_pdfs\\bn\\AP Ramjan.pdf...\n",
      "Saved text to D:\\SEM 5\\RAG\\converted_files\\bn\\AP Ramjan.txt\n",
      "Found PDF: D:\\SEM 5\\RAG\\sample_pdfs\\bn\\NEC-14.pdf...\n",
      "Saved text to D:\\SEM 5\\RAG\\converted_files\\bn\\NEC-14.txt\n",
      "Found PDF: D:\\SEM 5\\RAG\\sample_pdfs\\bn\\Research Nirdeshika.pdf...\n",
      "Saved text to D:\\SEM 5\\RAG\\converted_files\\bn\\Research Nirdeshika.txt\n",
      "Found PDF: D:\\SEM 5\\RAG\\sample_pdfs\\bn\\আহম্মেদNOC.pdf...\n",
      "Saved text to D:\\SEM 5\\RAG\\converted_files\\bn\\আহম্মেদNOC.txt\n"
     ]
    }
   ],
   "source": [
    "# Bengali PDFs\n",
    "\n",
    "bengali_pdfs= r\"D:\\SEM 5\\RAG\\sample_pdfs\\bn\"\n",
    "output_folder_bn = r\"D:\\SEM 5\\RAG\\converted_files\\bn\"\n",
    "\n",
    "process_pdf_folder(bengali_pdfs, output_folder_bn, language = 'ben')"
   ]
  },
  {
   "cell_type": "code",
   "execution_count": 51,
   "metadata": {},
   "outputs": [
    {
     "name": "stdout",
     "output_type": "stream",
     "text": [
      "Found PDF: D:\\SEM 5\\RAG\\sample_pdfs\\ur\\12-Rabiul-Awal-2024.pdf...\n",
      "Saved text to D:\\SEM 5\\RAG\\converted_files\\ur\\12-Rabiul-Awal-2024.txt\n",
      "Found PDF: D:\\SEM 5\\RAG\\sample_pdfs\\ur\\Extension-of-Ahdoc-Employees.pdf...\n",
      "Saved text to D:\\SEM 5\\RAG\\converted_files\\ur\\Extension-of-Ahdoc-Employees.txt\n",
      "Found PDF: D:\\SEM 5\\RAG\\sample_pdfs\\ur\\fasana-e-ajaib final.pdf...\n",
      "Saved text to D:\\SEM 5\\RAG\\converted_files\\ur\\fasana-e-ajaib final.txt\n",
      "Found PDF: D:\\SEM 5\\RAG\\sample_pdfs\\ur\\Notification-for-Other-Nationals.pdf...\n",
      "Saved text to D:\\SEM 5\\RAG\\converted_files\\ur\\Notification-for-Other-Nationals.txt\n",
      "Found PDF: D:\\SEM 5\\RAG\\sample_pdfs\\ur\\shora e rampur.pdf...\n",
      "Saved text to D:\\SEM 5\\RAG\\converted_files\\ur\\shora e rampur.txt\n",
      "Found PDF: D:\\SEM 5\\RAG\\sample_pdfs\\ur\\Solidarity-Day.pdf...\n",
      "Saved text to D:\\SEM 5\\RAG\\converted_files\\ur\\Solidarity-Day.txt\n",
      "Found PDF: D:\\SEM 5\\RAG\\sample_pdfs\\ur\\حیات جاوید، سوانح سر سید احمد خاں.pdf...\n",
      "Saved text to D:\\SEM 5\\RAG\\converted_files\\ur\\حیات جاوید، سوانح سر سید احمد خاں.txt\n"
     ]
    }
   ],
   "source": [
    "# Urdu PDFs\n",
    "\n",
    "urdu_pdfs= r\"D:\\SEM 5\\RAG\\sample_pdfs\\ur\"\n",
    "output_folder_ur = r\"D:\\SEM 5\\RAG\\converted_files\\ur\"\n",
    "\n",
    "process_pdf_folder(urdu_pdfs, output_folder_ur, language = 'urd')"
   ]
  },
  {
   "cell_type": "code",
   "execution_count": 52,
   "metadata": {},
   "outputs": [
    {
     "name": "stdout",
     "output_type": "stream",
     "text": [
      "Found PDF: D:\\SEM 5\\RAG\\sample_pdfs\\zh\\1553a07b-9f53-4e8b-9987-ae714000b95b.pdf...\n",
      "Saved text to D:\\SEM 5\\RAG\\converted_files\\zh\\1553a07b-9f53-4e8b-9987-ae714000b95b.txt\n",
      "Found PDF: D:\\SEM 5\\RAG\\sample_pdfs\\zh\\98aab034-f8d7-4f6e-9a0c-b52c12f55ce7.pdf...\n",
      "Saved text to D:\\SEM 5\\RAG\\converted_files\\zh\\98aab034-f8d7-4f6e-9a0c-b52c12f55ce7.txt\n",
      "Found PDF: D:\\SEM 5\\RAG\\sample_pdfs\\zh\\ec2def2f-cc7b-44f3-87d1-24dc82f3a0ca.pdf...\n",
      "Saved text to D:\\SEM 5\\RAG\\converted_files\\zh\\ec2def2f-cc7b-44f3-87d1-24dc82f3a0ca.txt\n",
      "Found PDF: D:\\SEM 5\\RAG\\sample_pdfs\\zh\\P020230313555181904759.pdf...\n",
      "Saved text to D:\\SEM 5\\RAG\\converted_files\\zh\\P020230313555181904759.txt\n",
      "Found PDF: D:\\SEM 5\\RAG\\sample_pdfs\\zh\\P020230907694757200665.pdf...\n",
      "Saved text to D:\\SEM 5\\RAG\\converted_files\\zh\\P020230907694757200665.txt\n",
      "Found PDF: D:\\SEM 5\\RAG\\sample_pdfs\\zh\\P020230907695746624812.pdf...\n",
      "Saved text to D:\\SEM 5\\RAG\\converted_files\\zh\\P020230907695746624812.txt\n"
     ]
    }
   ],
   "source": [
    "# Chinese PDFs\n",
    "\n",
    "chinese_pdfs= r\"D:\\SEM 5\\RAG\\sample_pdfs\\zh\"\n",
    "output_folder_zh = r\"D:\\SEM 5\\RAG\\converted_files\\zh\"\n",
    "\n",
    "process_pdf_folder(chinese_pdfs, output_folder_zh, language = 'chi_sim')\n"
   ]
  },
  {
   "cell_type": "code",
   "execution_count": null,
   "metadata": {},
   "outputs": [],
   "source": []
  }
 ],
 "metadata": {
  "kernelspec": {
   "display_name": "Python 3",
   "language": "python",
   "name": "python3"
  },
  "language_info": {
   "codemirror_mode": {
    "name": "ipython",
    "version": 3
   },
   "file_extension": ".py",
   "mimetype": "text/x-python",
   "name": "python",
   "nbconvert_exporter": "python",
   "pygments_lexer": "ipython3",
   "version": "3.12.6"
  }
 },
 "nbformat": 4,
 "nbformat_minor": 2
}
